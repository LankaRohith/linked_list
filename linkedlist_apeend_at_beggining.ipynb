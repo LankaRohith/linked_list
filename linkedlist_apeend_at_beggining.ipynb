{
 "cells": [
  {
   "cell_type": "code",
   "execution_count": null,
   "metadata": {},
   "outputs": [],
   "source": [
    "class node:\n",
    "    def __init__(self,data=None):\n",
    "        self.data=data\n",
    "        self.next=None\n",
    "class linkedlist:\n",
    "    def __init__(self):\n",
    "        self.head=None\n",
    "    def append(self,data):\n",
    "        new_node=node(data)\n",
    "        new_node.next=self.head\n",
    "        self.head=new_node\n",
    "        \n",
    "    def len(self):\n",
    "        present_node=self.head\n",
    "        count=0\n",
    "        while present_node!=None:\n",
    "            present_node=present_node.next\n",
    "            count+=1\n",
    "        return count\n",
    "    def display(self):\n",
    "        present_node=self.head\n",
    "        lst=[]\n",
    "        while present_node:\n",
    "            lst.append(present_node.data)\n",
    "            present_node=present_node.next\n",
    "        print(lst)\n",
    "t=linkedlist()\n",
    "t.append(4)\n",
    "t.append(5)\n",
    "t.display()"
   ]
  }
 ],
 "metadata": {
  "kernelspec": {
   "display_name": "Python 3",
   "language": "python",
   "name": "python3"
  },
  "language_info": {
   "codemirror_mode": {
    "name": "ipython",
    "version": 3
   },
   "file_extension": ".py",
   "mimetype": "text/x-python",
   "name": "python",
   "nbconvert_exporter": "python",
   "pygments_lexer": "ipython3",
   "version": "3.6.5"
  }
 },
 "nbformat": 4,
 "nbformat_minor": 2
}
